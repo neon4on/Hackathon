{
 "cells": [
  {
   "cell_type": "code",
   "execution_count": null,
   "metadata": {},
   "outputs": [],
   "source": [
    "import pandas as pd\n",
    "from sklearn.model_selection import train_test_split\n",
    "from sklearn.linear_model import LinearRegression\n",
    "from sklearn.metrics import mean_absolute_error\n",
    "\n",
    "# Загрузка данных\n",
    "data = pd.read_csv('../data/distributed_bills.csv')\n",
    "\n",
    "# Подготовка данных (пример)\n",
    "X = data[['Год счета', 'Площадь']]  # Фичи\n",
    "y = data['Сумма распределения']     # Целевая переменная\n",
    "\n",
    "# Разделение на тренировочную и тестовую выборки\n",
    "X_train, X_test, y_train, y_test = train_test_split(X, y, test_size=0.2, random_state=42)\n",
    "\n",
    "# Обучение модели\n",
    "model = LinearRegression()\n",
    "model.fit(X_train, y_train)\n",
    "\n",
    "# Прогнозирование\n",
    "y_pred = model.predict(X_test)\n",
    "\n",
    "# Оценка модели\n",
    "mae = mean_absolute_error(y_test, y_pred)\n",
    "print(f'Mean Absolute Error: {mae}')\n",
    "\n",
    "# Прогнозирование на новые данные\n",
    "new_data = pd.DataFrame({\n",
    "    'Год счета': [2024],\n",
    "    'Площадь': [100.0]\n",
    "})\n",
    "forecast = model.predict(new_data)\n",
    "print(f'Прогнозируемая сумма: {forecast[0]}')\n"
   ]
  }
 ],
 "metadata": {
  "language_info": {
   "name": "python"
  }
 },
 "nbformat": 4,
 "nbformat_minor": 2
}
